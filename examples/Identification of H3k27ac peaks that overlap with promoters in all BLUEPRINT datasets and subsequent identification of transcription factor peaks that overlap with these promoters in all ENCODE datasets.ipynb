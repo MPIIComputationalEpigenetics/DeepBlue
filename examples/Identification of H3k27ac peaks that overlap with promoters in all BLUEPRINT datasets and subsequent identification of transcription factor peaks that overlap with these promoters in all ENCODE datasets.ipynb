{
 "cells": [
  {
   "cell_type": "code",
   "execution_count": 24,
   "metadata": {
    "collapsed": true
   },
   "outputs": [],
   "source": [
    "import xmlrpclib\n",
    "import time\n",
    "from pprint import pprint"
   ]
  },
  {
   "cell_type": "code",
   "execution_count": 25,
   "metadata": {
    "collapsed": true
   },
   "outputs": [],
   "source": [
    "url = \"http://deepblue.mpi-inf.mpg.de/xmlrpc\"\n",
    "user_key = \"anonymous_key\"\n",
    "\n",
    "server = xmlrpclib.Server(url, allow_none=True)"
   ]
  },
  {
   "cell_type": "markdown",
   "metadata": {},
   "source": [
    "Select all peaks regions from H3k37ac from BLUEPRINT"
   ]
  },
  {
   "cell_type": "code",
   "execution_count": 26,
   "metadata": {},
   "outputs": [],
   "source": [
    "(status, exps) = server.select_regions(\"\", \"GRCh38\", \"H3k27ac\", \"\", \"\",  \"BLUEPRINT Epigenome\", \n",
    "                                       \"chr1\", None, None, user_key)\n",
    "(status, exps_peaks) = server.query_experiment_type(exps, \"peaks\", user_key)"
   ]
  },
  {
   "cell_type": "markdown",
   "metadata": {},
   "source": [
    "Select promoters"
   ]
  },
  {
   "cell_type": "code",
   "execution_count": 27,
   "metadata": {},
   "outputs": [],
   "source": [
    "(status, promoters) = server.select_annotations(\"promoters\", \"GRCh38\",\"chr1\", \n",
    "                                                None, None, user_key)"
   ]
  },
  {
   "cell_type": "markdown",
   "metadata": {},
   "source": [
    "Intersect the H3k27ac peaks with the gene promoters."
   ]
  },
  {
   "cell_type": "code",
   "execution_count": 28,
   "metadata": {},
   "outputs": [],
   "source": [
    "(status, exps_promoters) = server.intersection(exps_peaks, promoters, user_key)"
   ]
  },
  {
   "cell_type": "markdown",
   "metadata": {},
   "source": [
    "Select the SP1 peaks regions from ENCODE"
   ]
  },
  {
   "cell_type": "code",
   "execution_count": 29,
   "metadata": {
    "collapsed": true
   },
   "outputs": [],
   "source": [
    "(status, tf) = server.select_regions(\"\",\"hg19\", [\"SP1\"], \"\",\"\", \"ENCODE\", \"chr1\", None, None, user_key)\n",
    "(status, ts_signals) = server.query_experiment_type(tf, \"peaks\", user_key)"
   ]
  },
  {
   "cell_type": "markdown",
   "metadata": {},
   "source": [
    "Intersect the SP1 regions with the H3K27ac peaks that overlaps with promoters."
   ]
  },
  {
   "cell_type": "code",
   "execution_count": 30,
   "metadata": {},
   "outputs": [
    {
     "name": "stdout",
     "output_type": "stream",
     "text": [
      "q980980\n"
     ]
    }
   ],
   "source": [
    "(status, final) = server.intersection(tf, exps_promoters, user_key)\n",
    "print final"
   ]
  },
  {
   "cell_type": "markdown",
   "metadata": {},
   "source": [
    "Get the H3K27ac regions that overlap with the SP1 regions.\n",
    "Anotate these regions with the experiment name (*@NAME*) and Biosource (*@BIOSOURCE*)."
   ]
  },
  {
   "cell_type": "code",
   "execution_count": 31,
   "metadata": {},
   "outputs": [
    {
     "name": "stdout",
     "output_type": "stream",
     "text": [
      "r826047\n"
     ]
    }
   ],
   "source": [
    "(status, request) = server.get_regions(final, \n",
    "                      \"CHROMOSOME,START,END,@NAME,@BIOSOURCE\",\n",
    "                      user_key)\n",
    "print request"
   ]
  },
  {
   "cell_type": "code",
   "execution_count": 32,
   "metadata": {},
   "outputs": [
    {
     "name": "stdout",
     "output_type": "stream",
     "text": [
      "[{'user_id': 'u23', 'format': 'CHROMOSOME,START,END,@NAME,@BIOSOURCE', 'state': 'running', 'create_time': '2017-Dec-12 20:54:59.275000', 'command': 'get_regions', 'query_id': 'q980980', 'message': '', '_id': 'r826047', 'type': 'request'}]\n",
      "[{'user_id': 'u23', 'format': 'CHROMOSOME,START,END,@NAME,@BIOSOURCE', 'state': 'running', 'create_time': '2017-Dec-12 20:54:59.275000', 'command': 'get_regions', 'query_id': 'q980980', 'message': '', '_id': 'r826047', 'type': 'request'}]\n",
      "[{'user_id': 'u23', 'format': 'CHROMOSOME,START,END,@NAME,@BIOSOURCE', 'state': 'running', 'create_time': '2017-Dec-12 20:54:59.275000', 'command': 'get_regions', 'query_id': 'q980980', 'message': '', '_id': 'r826047', 'type': 'request'}]\n",
      "[{'user_id': 'u23', 'format': 'CHROMOSOME,START,END,@NAME,@BIOSOURCE', 'state': 'running', 'create_time': '2017-Dec-12 20:54:59.275000', 'command': 'get_regions', 'query_id': 'q980980', 'message': '', '_id': 'r826047', 'type': 'request'}]\n",
      "[{'user_id': 'u23', 'format': 'CHROMOSOME,START,END,@NAME,@BIOSOURCE', 'state': 'running', 'create_time': '2017-Dec-12 20:54:59.275000', 'command': 'get_regions', 'query_id': 'q980980', 'message': '', '_id': 'r826047', 'type': 'request'}]\n",
      "[{'user_id': 'u23', 'format': 'CHROMOSOME,START,END,@NAME,@BIOSOURCE', 'state': 'running', 'create_time': '2017-Dec-12 20:54:59.275000', 'command': 'get_regions', 'query_id': 'q980980', 'message': '', '_id': 'r826047', 'type': 'request'}]\n",
      "[{'user_id': 'u23', 'format': 'CHROMOSOME,START,END,@NAME,@BIOSOURCE', 'state': 'running', 'create_time': '2017-Dec-12 20:54:59.275000', 'command': 'get_regions', 'query_id': 'q980980', 'message': '', '_id': 'r826047', 'type': 'request'}]\n",
      "[{'user_id': 'u23', 'format': 'CHROMOSOME,START,END,@NAME,@BIOSOURCE', 'state': 'running', 'create_time': '2017-Dec-12 20:54:59.275000', 'command': 'get_regions', 'query_id': 'q980980', 'message': '', '_id': 'r826047', 'type': 'request'}]\n",
      "[{'user_id': 'u23', 'format': 'CHROMOSOME,START,END,@NAME,@BIOSOURCE', 'state': 'running', 'create_time': '2017-Dec-12 20:54:59.275000', 'command': 'get_regions', 'query_id': 'q980980', 'message': '', '_id': 'r826047', 'type': 'request'}]\n",
      "[{'user_id': 'u23', 'format': 'CHROMOSOME,START,END,@NAME,@BIOSOURCE', 'state': 'running', 'create_time': '2017-Dec-12 20:54:59.275000', 'command': 'get_regions', 'query_id': 'q980980', 'message': '', '_id': 'r826047', 'type': 'request'}]\n",
      "[{'user_id': 'u23', 'format': 'CHROMOSOME,START,END,@NAME,@BIOSOURCE', 'state': 'running', 'create_time': '2017-Dec-12 20:54:59.275000', 'command': 'get_regions', 'query_id': 'q980980', 'message': '', '_id': 'r826047', 'type': 'request'}]\n",
      "[{'user_id': 'u23', 'format': 'CHROMOSOME,START,END,@NAME,@BIOSOURCE', 'state': 'running', 'create_time': '2017-Dec-12 20:54:59.275000', 'command': 'get_regions', 'query_id': 'q980980', 'message': '', '_id': 'r826047', 'type': 'request'}]\n",
      "[{'user_id': 'u23', 'format': 'CHROMOSOME,START,END,@NAME,@BIOSOURCE', 'state': 'running', 'create_time': '2017-Dec-12 20:54:59.275000', 'command': 'get_regions', 'query_id': 'q980980', 'message': '', '_id': 'r826047', 'type': 'request'}]\n"
     ]
    }
   ],
   "source": [
    "# Wait the processing\n",
    "(status, info) = server.info(request, user_key)\n",
    "print info\n",
    "while info[0][\"state\"] != \"done\" and info[0][\"state\"] != \"error\":\n",
    "    time.sleep(5)\n",
    "    print info\n",
    "    (status, info) = server.info(request, user_key)\n",
    "\n",
    "(status, regions) = server.get_request_data(request, user_key)"
   ]
  },
  {
   "cell_type": "code",
   "execution_count": 33,
   "metadata": {},
   "outputs": [
    {
     "name": "stdout",
     "output_type": "stream",
     "text": [
      "chr1\t9893\t10687\tENCFF001TTQ\tA549\n",
      "chr1\t9893\t10687\tENCFF000NHD\tA549\n",
      "chr1\t9895\t10683\tENCFF001TTP\tA549\n",
      "chr1\t9895\t10683\tENCFF000NHC\tA549\n",
      "chr1\t9901\t10582\tENCFF000QGL\tK562\n",
      "chr1\t9901\t10582\tENCFF001ULG\tK562\n",
      "chr1\t9986\t10515\tENCFF001TYZ\tGM12878\n",
      "chr1\t9986\t10515\tENCFF000OEN\tGM12878\n",
      "chr1\t9986\t10515\tENCFF000PPS\tHepG2\n",
      "chr1\t9986\t10515\tENCFF001UHM\tHepG2\n",
      "chr1\t9990\t10480\tENCFF001TYY\tGM12878\n",
      "chr1\t9990\t10480\tENCFF000OEM\tGM12878\n",
      "chr1\t10001\t10002\tENCFF000NHH\tA549\n",
      "chr1\t10001\t10002\tENCFF000PCG\tHCT116\n",
      "chr1\t10001\t10002\tENCFF000PCF\tHCT116\n",
      "chr1\t10001\t10002\tENCFF000NHF\tA549\n",
      "chr1\t10002\t10003\tENCFF000NHH\tA549\n",
      "chr1\t10002\t10003\tENCFF000NHF\tA549\n",
      "chr1\t10002\t10003\tENCFF000PCF\tHCT116\n",
      "chr1\t10002\t10003\tENCFF000PCG\tHCT116\n",
      "chr1\t10003\t10004\tENCFF000PCG\tHCT116\n",
      "chr1\t10003\t10004\tENCFF000NHF\tA549\n",
      "chr1\t10003\t10004\tENCFF000NHH\tA549\n",
      "chr1\t10003\t10005\tENCFF000PCF\tHCT116\n",
      "chr1\t10004\t10005\tENCFF000NHF\tA549\n",
      "chr1\t10004\t10005\tENCFF000NHH\tA549\n",
      "chr1\t10004\t10007\tENCFF000PCG\tHCT116\n",
      "chr1\t10005\t10006\tENCFF000NHH\tA549\n",
      "chr1\t10005\t10006\tENCFF000NHF\tA549\n",
      "chr1\t10005\t10006\tENCFF000PCF\tHCT116\n",
      "chr1\t10006\t10007\tENCFF000NHH\tA549\n",
      "chr1\t10006\t10007\tENCFF000NHF\tA549\n",
      "chr1\t10006\t10007\tENCFF000PCF\tHCT116\n",
      "chr1\t10007\t10008\tENCFF000NHF\tA549\n",
      "chr1\t10007\t10008\tENCFF000PCG\tHCT116\n",
      "chr1\t10007\t10008\tENCFF000NHH\tA549\n",
      "chr1\t10007\t10008\tENCFF000PCF\tHCT116\n",
      "chr1\t10008\t10009\tENCFF000PCF\tHCT116\n",
      "chr1\t10008\t10009\tENCFF000NHH\tA549\n",
      "chr1\t10008\t10009\tENCFF000PCG\tHCT116\n",
      "chr1\t10008\t10009\tENCFF000NHF\tA549\n",
      "chr1\t10009\t10010\tENCFF000PCF\tHCT116\n",
      "chr1\t10009\t10010\tENCFF000NHH\tA549\n",
      "chr1\t10009\t10010\tENCFF000NHF\tA549\n",
      "chr1\t10009\t10011\tENCFF000PCG\tHCT116\n",
      "chr1\t10010\t10011\tENCFF000NHF\tA549\n",
      "chr1\t10010\t10011\tENCFF000PCF\tHCT116\n",
      "chr1\t10010\t10011\tENCFF000NHH\tA549\n",
      "chr1\t10011\t10012\tENCFF000NHH\tA549\n",
      "chr1\t10011\t10012\tENCFF000PCF\tHCT116\n",
      "chr1\t10011\t10012\tENCFF000NHF\tA549\n",
      "chr1\t10011\t10012\tENCFF000PCG\tHCT116\n",
      "chr1\t10012\t10013\tENCFF000NHF\tA549\n",
      "chr1\t10012\t10013\tENCFF000PCG\tHCT116\n",
      "chr1\t10012\t10013\tENCFF000NHH\tA549\n",
      "chr1\t10012\t10014\tENCFF000PCF\tHCT116\n",
      "chr1\t10013\t10014\tENCFF000NHH\tA549\n",
      "chr1\t10013\t10014\tENCFF000PCG\tHCT116\n",
      "chr1\t10013\t10014\tENCFF000NHF\tA549\n",
      "chr1\t10014\t10015\tENCFF000NHH\tA549\n",
      "chr1\t10014\t10015\tENCFF000PCG\tHCT116\n",
      "chr1\t10014\t10015\tENCFF000PCF\tHCT116\n",
      "chr1\t10014\t10015\tENCFF000NHF\tA549\n",
      "chr1\t10015\t10016\tENCFF000NHH\tA549\n",
      "chr1\t10015\t10016\tENCFF000NHF\tA549\n",
      "chr1\t10015\t10016\tENCFF000PCG\tHCT116\n",
      "chr1\t10015\t10017\tENCFF000PCF\tHCT116\n",
      "chr1\t10016\t10017\tENCFF000NHH\tA549\n",
      "chr1\t10016\t10017\tENCFF000PCG\tHCT116\n",
      "chr1\t10016\t10017\tENCFF000NHF\tA549\n",
      "chr1\t10017\t10018\tENCFF000NHH\tA549\n",
      "chr1\t10017\t10018\tENCFF000PCG\tHCT116\n",
      "chr1\t10017\t10018\tENCFF000NHF\tA549\n",
      "chr1\t10017\t10021\tENCFF000PCF\tHCT116\n",
      "chr1\t10018\t10019\tENCFF000NHH\tA549\n",
      "chr1\t10018\t10019\tENCFF000PCG\tHCT116\n",
      "chr1\t10018\t10019\tENCFF000NHF\tA549\n",
      "chr1\t10019\t10020\tENCFF000NHF\tA549\n",
      "chr1\t10019\t10020\tENCFF000PCG\tHCT116\n",
      "chr1\t10019\t10020\tENCFF000NHH\tA549\n",
      "chr1\t10020\t10021\tENCFF000NHF\tA549\n",
      "chr1\t10020\t10021\tENCFF000PCG\tHCT116\n",
      "chr1\t10020\t10022\tENCFF000NHH\tA549\n",
      "chr1\t10021\t10022\tENCFF000NHF\tA549\n",
      "chr1\t10021\t10022\tENCFF000PCG\tHCT116\n",
      "chr1\t10021\t10022\tENCFF000PCF\tHCT116\n",
      "chr1\t10022\t10023\tENCFF000NHF\tA549\n",
      "chr1\t10022\t10023\tENCFF000NHH\tA549\n",
      "chr1\t10022\t10023\tENCFF000PCG\tHCT116\n",
      "chr1\t10022\t10023\tENCFF000PCF\tHCT116\n",
      "chr1\t10023\t10024\tENCFF000NHF\tA549\n",
      "chr1\t10023\t10024\tENCFF000NHH\tA549\n",
      "chr1\t10023\t10024\tENCFF000PCG\tHCT116\n",
      "chr1\t10023\t10026\tENCFF000PCF\tHCT116\n",
      "chr1\t10024\t10025\tENCFF000PCG\tHCT116\n",
      "chr1\t10024\t10025\tENCFF000NHF\tA549\n",
      "chr1\t10024\t10025\tENCFF000NHH\tA549\n",
      "chr1\t10025\t10026\tENCFF000NHF\tA549\n",
      "chr1\t10025\t10026\tENCFF000PCG\tHCT116\n",
      "chr1\t10025\t10026\tENCFF000NHH\tA549\n",
      "chr1\t10026\t10027\tENCFF000NHF\tA549\n",
      "chr1\t10026\t10027\tENCFF000NHH\tA549\n",
      "chr1\t10026\t10028\tENCFF000PCG\tHCT116\n",
      "chr1\t10026\t10030\tENCFF000PCF\tHCT116\n",
      "chr1\t10027\t10028\tENCFF000NHF\tA549\n",
      "chr1\t10027\t10028\tENCFF000NHH\tA549\n",
      "chr1\t10028\t10029\tENCFF000NHF\tA549\n",
      "chr1\t10028\t10029\tENCFF000PCG\tHCT116\n",
      "chr1\t10028\t10029\tENCFF000NHH\tA549\n",
      "chr1\t10029\t10030\tENCFF000NHF\tA549\n",
      "chr1\t10029\t10030\tENCFF000NHH\tA549\n",
      "chr1\t10029\t10031\tENCFF000PCG\tHCT116\n",
      "chr1\t10030\t10031\tENCFF000NHF\tA549\n",
      "chr1\t10030\t10031\tENCFF000NHH\tA549\n",
      "chr1\t10030\t10031\tENCFF000PCF\tHCT116\n",
      "chr1\t10031\t10032\tENCFF000NHF\tA549\n",
      "chr1\t10031\t10032\tENCFF000NHH\tA549\n",
      "chr1\t10031\t10033\tENCFF000PCG\tHCT116\n",
      "chr1\t10031\t10034\tENCFF000PCF\tHCT116\n",
      "chr1\t10032\t10033\tENCFF000NHH\tA549\n",
      "chr1\t10032\t10033\tENCFF000NHF\tA549\n",
      "chr1\t10033\t10034\tENCFF000PCG\tHCT116\n",
      "chr1\t10033\t10034\tENCFF000NHH\tA549\n",
      "chr1\t10033\t10034\tENCFF000NHF\tA549\n",
      "chr1\t10034\t10035\tENCFF000PCG\tHCT116\n",
      "chr1\t10034\t10035\tENCFF000NHH\tA549\n",
      "chr1\t10034\t10035\tENCFF000PCF\tHCT116\n",
      "chr1\t10034\t10035\tENCFF000NHF\tA549\n",
      "chr1\t10035\t10036\tENCFF000NHF\tA549\n",
      "chr1\t10035\t10036\tENCFF000NHH\tA549\n",
      "chr1\t10035\t10036\tENCFF000PCF\tHCT116\n",
      "chr1\t10035\t10036\tENCFF000PCG\tHCT116\n",
      "chr1\t10036\t10037\tENCFF000NHH\tA549\n",
      "chr1\t10036\t10037\tENCFF000PCG\tHCT116\n",
      "chr1\t10036\t10037\tENCFF000PCF\tHCT116\n",
      "chr1\t10036\t10037\tENCFF000NHF\tA549\n",
      "chr1\t10037\t10038\tENCFF000PCG\tHCT116\n",
      "chr1\t10037\t10038\tENCFF000NHH\tA549\n",
      "chr1\t10037\t10038\tENCFF000PCF\tHCT116\n",
      "chr1\t10037\t10038\tENCFF000NHF\tA549\n",
      "chr1\t10038\t10039\tENCFF000PCG\tHCT116\n",
      "chr1\t10038\t10039\tENCFF000NHH\tA549\n",
      "chr1\t10038\t10039\tENCFF000PCF\tHCT116\n",
      "chr1\t10038\t10039\tENCFF000NHF\tA549\n",
      "chr1\t10039\t10040\tENCFF000NHH\tA549\n",
      "chr1\t10039\t10040\tENCFF000PCF\tHCT116\n",
      "chr1\t10039\t10040\tENCFF000NHF\tA549\n",
      "chr1\t10039\t10041\tENCFF000PCG\tHCT116\n",
      "chr1\t10040\t10041\tENCFF000NHH\tA549\n",
      "chr1\t10040\t10041\tENCFF000PCF\tHCT116\n",
      "chr1\t10040\t10041\tENCFF000NHF\tA549\n",
      "chr1\t10041\t10042\tENCFF000PCG\tHCT116\n",
      "chr1\t10041\t10042\tENCFF000NHH\tA549\n",
      "chr1\t10041\t10042\tENCFF000PCF\tHCT116\n",
      "chr1\t10041\t10042\tENCFF000NHF\tA549\n",
      "chr1\t10042\t10043\tENCFF000NHH\tA549\n",
      "chr1\t10042\t10043\tENCFF000NHF\tA549\n",
      "chr1\t10042\t10043\tENCFF000PCG\tHCT116\n",
      "chr1\t10042\t10044\tENCFF000PCF\tHCT116\n",
      "chr1\t10043\t10044\tENCFF000NHH\tA549\n",
      "chr1\t10043\t10044\tENCFF000NHF\tA549\n",
      "chr1\t10043\t10044\tENCFF000PCG\tHCT116\n",
      "chr1\t10044\t10045\tENCFF000NHH\tA549\n",
      "chr1\t10044\t10045\tENCFF000PCG\tHCT116\n",
      "chr1\t10044\t10045\tENCFF000NHF\tA549\n",
      "chr1\t10044\t10046\tENCFF000PCF\tHCT116\n",
      "chr1\t10044\t10351\tENCFF000PPT\tHepG2\n",
      "chr1\t10044\t10351\tENCFF001UHN\tHepG2\n",
      "chr1\t10045\t10046\tENCFF000NHH\tA549\n",
      "chr1\t10045\t10046\tENCFF000NHF\tA549\n",
      "chr1\t10045\t10048\tENCFF000PCG\tHCT116\n",
      "chr1\t10046\t10047\tENCFF000NHH\tA549\n",
      "chr1\t10046\t10047\tENCFF000PCF\tHCT116\n",
      "chr1\t10046\t10047\tENCFF000NHF\tA549\n",
      "chr1\t10047\t10048\tENCFF000NHH\tA549\n",
      "chr1\t10047\t10048\tENCFF000PCF\tHCT116\n",
      "chr1\t10047\t10048\tENCFF000NHF\tA549\n",
      "chr1\t10048\t10049\tENCFF000NHH\tA549\n",
      "chr1\t10048\t10049\tENCFF000PCG\tHCT116\n",
      "chr1\t10048\t10049\tENCFF000PCF\tHCT116\n",
      "chr1\t10048\t10049\tENCFF000NHF\tA549\n",
      "chr1\t10049\t10050\tENCFF000PCG\tHCT116\n",
      "chr1\t10049\t10050\tENCFF000NHF\tA549\n",
      "chr1\t10049\t10050\tENCFF000NHH\tA549\n",
      "chr1\t10049\t10052\tENCFF000PCF\tHCT116\n",
      "chr1\t10050\t10051\tENCFF000NHF\tA549\n",
      "chr1\t10050\t10051\tENCFF000PCG\tHCT116\n",
      "chr1\t10050\t10051\tENCFF000NHH\tA549\n",
      "chr1\t10051\t10052\tENCFF000NHF\tA549\n",
      "chr1\t10051\t10052\tENCFF000PCG\tHCT116\n",
      "chr1\t10051\t10052\tENCFF000NHH\tA549\n",
      "chr1\t10052\t10053\tENCFF000PCF\tHCT116\n",
      "chr1\t10052\t10053\tENCFF000NHF\tA549\n",
      "chr1\t10052\t10053\tENCFF000NHH\tA549\n",
      "chr1\t10052\t10055\tENCFF000PCG\tHCT116\n",
      "chr1\t10053\t10054\tENCFF000PCF\tHCT116\n",
      "chr1\t10053\t10054\tENCFF000NHF\tA549\n",
      "chr1\t10053\t10054\tENCFF000NHH\tA549\n",
      "chr1\t10054\t10055\tENCFF000PCF\tHCT116\n",
      "chr1\t10054\t10055\tENCFF000NHF\tA549\n",
      "chr1\t10054\t10055\tENCFF000NHH\tA549\n",
      "chr1\t10055\t10056\tENCFF000PCG\tHCT116\n",
      "chr1\t10055\t10056\tENCFF000PCF\tHCT116\n",
      "chr1\t10055\t10056\tENCFF000NHF\tA549\n",
      "chr1\t10055\t10056\tENCFF000NHH\tA549\n",
      "chr1\t10056\t10057\tENCFF000NHF\tA549\n",
      "chr1\t10056\t10057\tENCFF000PCG\tHCT116\n",
      "chr1\t10056\t10057\tENCFF000NHH\tA549\n",
      "chr1\t10056\t10059\tENCFF000PCF\tHCT116\n",
      "chr1\t10057\t10058\tENCFF000PCG\tHCT116\n",
      "chr1\t10057\t10058\tENCFF000NHF\tA549\n",
      "chr1\t10057\t10058\tENCFF000NHH\tA549\n",
      "chr1\t10058\t10059\tENCFF000PCG\tHCT116\n",
      "chr1\t10058\t10059\tENCFF000NHF\tA549\n",
      "chr1\t10058\t10059\tENCFF000NHH\tA549\n",
      "chr1\t10059\t10060\tENCFF000NHF\tA549\n",
      "chr1\t10059\t10060\tENCFF000NHH\tA549\n",
      "chr1\t10059\t10060\tENCFF000PCF\tHCT116\n",
      "chr1\t10059\t10061\tENCFF000PCG\tHCT116\n",
      "chr1\t10060\t10061\tENCFF000NHH\tA549\n",
      "chr1\t10060\t10061\tENCFF000NHF\tA549\n",
      "chr1\t10060\t10061\tENCFF000PCF\tHCT116\n",
      "chr1\t10061\t10062\tENCFF000PCG\tHCT116\n",
      "chr1\t10061\t10062\tENCFF000PCF\tHCT116\n",
      "chr1\t10061\t10062\tENCFF000NHH\tA549\n",
      "chr1\t10061\t10062\tENCFF000NHF\tA549\n",
      "chr1\t10062\t10063\tENCFF000PCG\tHCT116\n",
      "chr1\t10062\t10063\tENCFF000NHH\tA549\n",
      "chr1\t10062\t10063\tENCFF000NHF\tA549\n",
      "chr1\t10062\t10065\tENCFF000PCF\tHCT116\n",
      "chr1\t10063\t10064\tENCFF000PCG\tHCT116\n",
      "chr1\t10063\t10064\tENCFF000NHH\tA549\n",
      "chr1\t10063\t10064\tENCFF000NHF\tA549\n",
      "chr1\t10064\t10065\tENCFF000PCG\tHCT116\n",
      "chr1\t10064\t10065\tENCFF000NHF\tA549\n",
      "chr1\t10064\t10065\tENCFF000NHH\tA549\n",
      "chr1\t10065\t10066\tENCFF000NHH\tA549\n",
      "chr1\t10065\t10066\tENCFF000NHF\tA549\n",
      "chr1\t10065\t10066\tENCFF000PCG\tHCT116\n",
      "chr1\t10065\t10067\tENCFF000PCF\tHCT116\n",
      "chr1\t10066\t10067\tENCFF000NHH\tA549\n",
      "chr1\t10066\t10067\tENCFF000NHF\tA549\n",
      "chr1\t10066\t10067\tENCFF000PCG\tHCT116\n",
      "chr1\t10067\t10068\tENCFF000PCF\tHCT116\n",
      "chr1\t10067\t10068\tENCFF000NHF\tA549\n",
      "chr1\t10067\t10068\tENCFF000NHH\tA549\n",
      "chr1\t10067\t10069\tENCFF000PCG\tHCT116\n",
      "chr1\t10068\t10069\tENCFF000NHF\tA549\n",
      "chr1\t10068\t10069\tENCFF000NHH\tA549\n",
      "chr1\t10068\t10071\tENCFF000PCF\tHCT116\n",
      "chr1\t10069\t10070\tENCFF000NHF\tA549\n",
      "chr1\t10069\t10070\tENCFF000NHH\tA549\n",
      "chr1\t10069\t10071\tENCFF000PCG\tHCT116\n",
      "chr1\t10070\t10071\tENCFF000NHF\tA549\n",
      "chr1\t10070\t10071\tENCFF000NHH\tA549\n",
      "chr1\t10071\t10072\tENCFF000PCG\tHCT116\n",
      "chr1\t10071\t10072\tENCFF000NHF\tA549\n",
      "chr1\t10071\t10072\tENCFF000PCF\tHCT116\n",
      "chr1\t10071\t10072\tENCFF000NHH\tA549\n",
      "chr1\t10072\t10073\tENCFF000NHF\tA549\n",
      "chr1\t10072\t10073\tENCFF000PCF\tHCT116\n",
      "chr1\t10072\t10073\tENCFF000NHH\tA549\n",
      "chr1\t10072\t10074\tENCFF000PCG\tHCT116\n",
      "chr1\t10073\t10074\tENCFF000NHH\tA549\n",
      "chr1\t10073\t10074\tENCFF000NHF\tA549\n",
      "chr1\t10073\t10076\tENCFF000PCF\tHCT116\n",
      "chr1\t10074\t10075\tENCFF000NHH\tA549\n",
      "chr1\t10074\t10075\tENCFF000OES\tGM12878\n",
      "chr1\t10074\t10075\tENCFF000OER\tGM12878\n",
      "chr1\t10074\t10075\tENCFF000PCG\tHCT116\n",
      "chr1\t10074\t10075\tENCFF000NHF\tA549\n",
      "chr1\t10074\t10075\tENCFF000PPX\tHepG2\n",
      "chr1\t10075\t10076\tENCFF000NHH\tA549\n",
      "chr1\t10075\t10076\tENCFF000OER\tGM12878\n",
      "chr1\t10075\t10076\tENCFF000PPX\tHepG2\n",
      "chr1\t10075\t10076\tENCFF000NHF\tA549\n",
      "chr1\t10075\t10076\tENCFF000PCG\tHCT116\n",
      "chr1\t10075\t10077\tENCFF000OES\tGM12878\n",
      "chr1\t10076\t10077\tENCFF000NHH\tA549\n",
      "chr1\t10076\t10077\tENCFF000OER\tGM12878\n",
      "chr1\t10076\t10077\tENCFF000NHF\tA549\n",
      "chr1\t10076\t10078\tENCFF000PCG\tHCT116\n",
      "chr1\t10076\t10078\tENCFF000PPX\tHepG2\n",
      "chr1\t10076\t10080\tENCFF000PCF\tHCT116\n",
      "chr1\t10077\t10078\tENCFF000NHH\tA549\n",
      "chr1\t10077\t10078\tENCFF000OES\tGM12878\n",
      "chr1\t10077\t10078\tENCFF000OER\t\n"
     ]
    }
   ],
   "source": [
    "print(regions[0:10000])"
   ]
  },
  {
   "cell_type": "code",
   "execution_count": null,
   "metadata": {
    "collapsed": true
   },
   "outputs": [],
   "source": []
  }
 ],
 "metadata": {
  "kernelspec": {
   "display_name": "Python 2",
   "language": "python",
   "name": "python2"
  },
  "language_info": {
   "codemirror_mode": {
    "name": "ipython",
    "version": 2
   },
   "file_extension": ".py",
   "mimetype": "text/x-python",
   "name": "python",
   "nbconvert_exporter": "python",
   "pygments_lexer": "ipython2",
   "version": "2.7.13"
  }
 },
 "nbformat": 4,
 "nbformat_minor": 2
}
