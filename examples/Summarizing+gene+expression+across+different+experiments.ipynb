{
 "cells": [
  {
   "cell_type": "markdown",
   "metadata": {},
   "source": [
    "# Summarize genes expression from CREST Hepatocytes experimentas\n",
    "\n",
    "###### Questions: Felipe Albrecht (felipe.albrecht@gmail.com) August 17, 2017"
   ]
  },
  {
   "cell_type": "markdown",
   "metadata": {},
   "source": [
    "#### All communication to DeepBlue Data Server is made through XML-RPC protocol.\n",
    "#### We are going to use the *xmlrpclib* package in  Python 2."
   ]
  },
  {
   "cell_type": "code",
   "execution_count": 1,
   "metadata": {},
   "outputs": [],
   "source": [
    "import xmlrpclib"
   ]
  },
  {
   "cell_type": "markdown",
   "metadata": {},
   "source": [
    "#### We connect to the DeepBlue URL and create a object that will work as a proxy between our code and the server."
   ]
  },
  {
   "cell_type": "code",
   "execution_count": 2,
   "metadata": {},
   "outputs": [],
   "source": [
    "url = \"http://deepblue.mpi-inf.mpg.de/xmlrpc\"\n",
    "deepblue = xmlrpclib.Server(url, allow_none=True)"
   ]
  },
  {
   "cell_type": "markdown",
   "metadata": {},
   "source": [
    "##### We need a user key to access DeepBlue. We are going to use the public and anonymous anonymous key that DeepBlue offer. Is it strongly recommended to register at [Register Page](http://deepblue.mpi-inf.mpg.de/register.php)."
   ]
  },
  {
   "cell_type": "code",
   "execution_count": 3,
   "metadata": {},
   "outputs": [],
   "source": [
    "USER_KEY = \"anonymous_key\""
   ]
  },
  {
   "cell_type": "markdown",
   "metadata": {},
   "source": [
    "#### We use the command [echo](http://deepblue.mpi-inf.mpg.de/api.php#api-echo) to check your connection with DeepBlue"
   ]
  },
  {
   "cell_type": "code",
   "execution_count": 4,
   "metadata": {},
   "outputs": [
    {
     "name": "stdout",
     "output_type": "stream",
     "text": [
      "['okay', 'DeepBlue (1.18.11) says hi to anonymous']\n"
     ]
    }
   ],
   "source": [
    "print deepblue.echo(USER_KEY)"
   ]
  },
  {
   "cell_type": "markdown",
   "metadata": {},
   "source": [
    "#### We use the command [list_experiments](http://deepblue.mpi-inf.mpg.de/api.php#api-list_experiments) to list all mRNA experiments from Hepatocytes and from the CREST project."
   ]
  },
  {
   "cell_type": "code",
   "execution_count": 5,
   "metadata": {},
   "outputs": [],
   "source": [
    "status, experiments = deepblue.list_experiments(\"GRCh38\", \"signal\", \n",
    "                                                \"mRNA\", \"hepatocyte\", \n",
    "                                                None, None, \"CREST\", \n",
    "                                                USER_KEY)"
   ]
  },
  {
   "cell_type": "code",
   "execution_count": 6,
   "metadata": {},
   "outputs": [
    {
     "data": {
      "text/plain": [
       "[['e107350', 'HPC6_hg38_RNAseq.ucsc.bedgraph'],\n",
       " ['e107347', 'HPC35_hg38_RNAseq.ucsc.bedgraph'],\n",
       " ['e107281', 'HPC25_hg38_RNAseq.ucsc.bedgraph'],\n",
       " ['e107285', 'HPC28_hg38_RNAseq.ucsc.bedgraph'],\n",
       " ['e107283', 'HPC20_hg38_RNAseq.ucsc.bedgraph'],\n",
       " ['e107279', 'HPC8_hg38_RNAseq.ucsc.bedgraph'],\n",
       " ['e107278', 'HPC17_hg38_RNAseq.ucsc.bedgraph'],\n",
       " ['e107269', 'HPC27_hg38_RNAseq.ucsc.bedgraph']]"
      ]
     },
     "execution_count": 6,
     "metadata": {},
     "output_type": "execute_result"
    }
   ],
   "source": [
    "experiments"
   ]
  },
  {
   "cell_type": "markdown",
   "metadata": {},
   "source": [
    "#### The list_experiments return a list of IDs and names. We use the command [extract_names](http://deepblue.mpi-inf.mpg.de/api.php#api-extract_names) to obtain the experiments names."
   ]
  },
  {
   "cell_type": "code",
   "execution_count": 7,
   "metadata": {},
   "outputs": [],
   "source": [
    "status, experiment_names = deepblue.extract_names(experiments)"
   ]
  },
  {
   "cell_type": "code",
   "execution_count": 8,
   "metadata": {},
   "outputs": [
    {
     "data": {
      "text/plain": [
       "['HPC6_hg38_RNAseq.ucsc.bedgraph',\n",
       " 'HPC35_hg38_RNAseq.ucsc.bedgraph',\n",
       " 'HPC25_hg38_RNAseq.ucsc.bedgraph',\n",
       " 'HPC28_hg38_RNAseq.ucsc.bedgraph',\n",
       " 'HPC20_hg38_RNAseq.ucsc.bedgraph',\n",
       " 'HPC8_hg38_RNAseq.ucsc.bedgraph',\n",
       " 'HPC17_hg38_RNAseq.ucsc.bedgraph',\n",
       " 'HPC27_hg38_RNAseq.ucsc.bedgraph']"
      ]
     },
     "execution_count": 8,
     "metadata": {},
     "output_type": "execute_result"
    }
   ],
   "source": [
    "experiment_names"
   ]
  },
  {
   "cell_type": "markdown",
   "metadata": {},
   "source": [
    "#### We select manually some genes. A list of Genes can be found in the [Web Interface](http://deepblue.mpi-inf.mpg.de/dashboard.php#ajax/deepblue_view_genes.php)"
   ]
  },
  {
   "cell_type": "code",
   "execution_count": 9,
   "metadata": {},
   "outputs": [],
   "source": [
    "genes = [\"ADH1A\", \"ADH1C\", \"ADH4\", \"ADH5\", \"ADH6\", \"ADH7\", \n",
    "         \"GSTA1\", \"GSTA2\", \"GSTA3\", \"GSTA4\"]"
   ]
  },
  {
   "cell_type": "markdown",
   "metadata": {},
   "source": [
    "#### The list_experiments return a list of IDs and names. We use the command [select_genes](http://deepblue.mpi-inf.mpg.de/api.php#api-select_genes) select the genes and return a query ID."
   ]
  },
  {
   "cell_type": "code",
   "execution_count": 10,
   "metadata": {},
   "outputs": [],
   "source": [
    "(status, q_genes) = deepblue.select_genes(genes, None, \n",
    "                                          \"gencode v23\", None, None, None, USER_KEY)"
   ]
  },
  {
   "cell_type": "code",
   "execution_count": 11,
   "metadata": {},
   "outputs": [
    {
     "data": {
      "text/plain": [
       "'q987661'"
      ]
     },
     "execution_count": 11,
     "metadata": {},
     "output_type": "execute_result"
    }
   ],
   "source": [
    "q_genes"
   ]
  },
  {
   "cell_type": "markdown",
   "metadata": {},
   "source": [
    "#### We obtain the genes from the server. We do it to obtain the genes in \"genomic order\". The  [get_regions](http://deepblue.mpi-inf.mpg.de/api.php#api-get_regions) command is usually to obtain the epigenomic data, but in this case we use to obtain the gene names (using the meta-field @GENE_NAME). This data will be used further. "
   ]
  },
  {
   "cell_type": "code",
   "execution_count": 12,
   "metadata": {},
   "outputs": [],
   "source": [
    "(status, request_id) = deepblue.get_regions(q_genes, \n",
    "                                            \"@GENE_NAME(gencode v22)\", \n",
    "                                            USER_KEY)"
   ]
  },
  {
   "cell_type": "markdown",
   "metadata": {},
   "source": [
    "#### The following function is used to wait DeepBlue processing and download the data."
   ]
  },
  {
   "cell_type": "code",
   "execution_count": 13,
   "metadata": {},
   "outputs": [],
   "source": [
    "import time\n",
    "def download_data(request_id):\n",
    " (status, info) = deepblue.info(request_id, USER_KEY)\n",
    " request_status = info[0][\"state\"]\n",
    " while request_status != \"done\" and request_status != \"failed\":\n",
    "   print request_status \n",
    "   time.sleep(1)\n",
    "   (status, info) = deepblue.info(request_id, USER_KEY)\n",
    "   request_status = info[0][\"state\"]\n",
    " (status, regions) = deepblue.get_request_data(request_id, USER_KEY)\n",
    " return regions"
   ]
  },
  {
   "cell_type": "code",
   "execution_count": 14,
   "metadata": {},
   "outputs": [],
   "source": [
    "genes_ordered = download_data(request_id)"
   ]
  },
  {
   "cell_type": "markdown",
   "metadata": {},
   "source": [
    "#### We verify the output."
   ]
  },
  {
   "cell_type": "code",
   "execution_count": 15,
   "metadata": {},
   "outputs": [
    {
     "name": "stdout",
     "output_type": "stream",
     "text": [
      "ADH5\n",
      "ADH4\n",
      "ADH6\n",
      "ADH1A\n",
      "ADH1C\n",
      "ADH7\n",
      "GSTA2\n",
      "GSTA1\n",
      "GSTA3\n",
      "GSTA4\n"
     ]
    }
   ],
   "source": [
    "print genes_ordered"
   ]
  },
  {
   "cell_type": "markdown",
   "metadata": {
    "collapsed": true
   },
   "source": [
    "## Building the score matrix\n",
    "\n",
    "#### We have to create a dictionary, with the experiment names as key and the column name as value. For this case, we use the column named \"VALUE\", that is the default value column in the DeepBlue signal data."
   ]
  },
  {
   "cell_type": "code",
   "execution_count": 16,
   "metadata": {},
   "outputs": [],
   "source": [
    "experiments_columns = {}\n",
    "for experiment_name in experiment_names:\n",
    "    experiments_columns[experiment_name] = \"VALUE\"\n"
   ]
  },
  {
   "cell_type": "code",
   "execution_count": 17,
   "metadata": {},
   "outputs": [
    {
     "data": {
      "text/plain": [
       "{'HPC17_hg38_RNAseq.ucsc.bedgraph': 'VALUE',\n",
       " 'HPC20_hg38_RNAseq.ucsc.bedgraph': 'VALUE',\n",
       " 'HPC25_hg38_RNAseq.ucsc.bedgraph': 'VALUE',\n",
       " 'HPC27_hg38_RNAseq.ucsc.bedgraph': 'VALUE',\n",
       " 'HPC28_hg38_RNAseq.ucsc.bedgraph': 'VALUE',\n",
       " 'HPC35_hg38_RNAseq.ucsc.bedgraph': 'VALUE',\n",
       " 'HPC6_hg38_RNAseq.ucsc.bedgraph': 'VALUE',\n",
       " 'HPC8_hg38_RNAseq.ucsc.bedgraph': 'VALUE'}"
      ]
     },
     "execution_count": 17,
     "metadata": {},
     "output_type": "execute_result"
    }
   ],
   "source": [
    "experiments_columns"
   ]
  },
  {
   "cell_type": "markdown",
   "metadata": {},
   "source": [
    "#### We build the [score_matrix](http://deepblue.mpi-inf.mpg.de/api.php#api-score_matrix) using the defined *experiments_columns* , where we calculate the *mean* value by the regions defined in the *q_genes*."
   ]
  },
  {
   "cell_type": "code",
   "execution_count": 18,
   "metadata": {},
   "outputs": [],
   "source": [
    "status, score_matrix_request = deepblue.score_matrix(experiments_columns, \n",
    "                                                     \"mean\", \n",
    "                                                     q_genes, \n",
    "                                                     USER_KEY)"
   ]
  },
  {
   "cell_type": "markdown",
   "metadata": {},
   "source": [
    "#### We download the data and print it."
   ]
  },
  {
   "cell_type": "code",
   "execution_count": 19,
   "metadata": {},
   "outputs": [],
   "source": [
    "score_matrix_genes = download_data(score_matrix_request)"
   ]
  },
  {
   "cell_type": "code",
   "execution_count": 20,
   "metadata": {},
   "outputs": [
    {
     "name": "stdout",
     "output_type": "stream",
     "text": [
      "CHROMOSOME\tSTART\tEND\tHPC17_hg38_RNAseq.ucsc.bedgraph\tHPC20_hg38_RNAseq.ucsc.bedgraph\tHPC25_hg38_RNAseq.ucsc.bedgraph\tHPC27_hg38_RNAseq.ucsc.bedgraph\tHPC28_hg38_RNAseq.ucsc.bedgraph\tHPC35_hg38_RNAseq.ucsc.bedgraph\tHPC6_hg38_RNAseq.ucsc.bedgraph\tHPC8_hg38_RNAseq.ucsc.bedgraph\n",
      "chr4\t99070978\t99088801\t45.6722\t40.5456\t31.3338\t24.8331\t49.0315\t49.0315\t37.8134\t50.5771\n",
      "chr4\t99123657\t99157792\t631.5610\t552.5889\t492.0685\t319.3771\t716.8007\t716.8007\t308.4692\t472.8107\n",
      "chr4\t99202638\t99219537\t117.7806\t126.6357\t165.3638\t112.3036\t103.4586\t103.4586\t85.5146\t125.9697\n",
      "chr4\t99276367\t99291028\t450.0158\t438.9686\t285.0432\t254.7077\t378.2421\t378.2421\t126.9803\t348.7667\n",
      "chr4\t99336492\t99353027\t416.4240\t544.6985\t322.9896\t253.4462\t257.8163\t257.8163\t159.7620\t382.3193\n",
      "chr4\t99412261\t99435737\t0.1526\t0.2051\t0.2858\t0.4167\t-0.0880\t-0.0880\t\t0.1496\n",
      "chr6\t52750089\t52763569\t152.4387\t16.0667\t94.0770\t102.7956\t262.5486\t262.5486\t74.0055\t50.0840\n",
      "chr6\t52791664\t52803910\t194.0035\t196.7491\t326.8857\t181.8221\t251.7184\t251.7184\t199.5224\t244.6042\n",
      "chr6\t52847910\t52909685\t1.2167\t1.9867\t3.3880\t2.3680\t2.0425\t2.0425\t0.1800\t2.1675\n",
      "chr6\t52977948\t52995378\t9.7236\t3.9721\t3.1146\t2.6727\t3.5092\t3.5092\t2.4647\t7.2900\n",
      "\n"
     ]
    }
   ],
   "source": [
    "print score_matrix_genes"
   ]
  },
  {
   "cell_type": "markdown",
   "metadata": {},
   "source": [
    "## Importing the data into numpy"
   ]
  },
  {
   "cell_type": "code",
   "execution_count": 21,
   "metadata": {},
   "outputs": [],
   "source": [
    "import numpy as np"
   ]
  },
  {
   "cell_type": "code",
   "execution_count": 22,
   "metadata": {},
   "outputs": [],
   "source": [
    "from io import BytesIO"
   ]
  },
  {
   "cell_type": "markdown",
   "metadata": {},
   "source": [
    "#### We import the data into a numpy data structure. For this, we use the command genfromtxt, using tabs as delimiters, skipping the first row (the header), and using columns from the 3rd position. "
   ]
  },
  {
   "cell_type": "code",
   "execution_count": 23,
   "metadata": {},
   "outputs": [
    {
     "name": "stdout",
     "output_type": "stream",
     "text": [
      "8\n"
     ]
    }
   ],
   "source": [
    "experiments_count = len(experiment_names)\n",
    "print experiments_count"
   ]
  },
  {
   "cell_type": "code",
   "execution_count": 24,
   "metadata": {},
   "outputs": [],
   "source": [
    "data = np.genfromtxt(BytesIO(score_matrix_genes), delimiter=\"\\t\", \n",
    "                     skip_header=1, \n",
    "                     usecols = range(3,experiments_count+3))"
   ]
  },
  {
   "cell_type": "code",
   "execution_count": 25,
   "metadata": {},
   "outputs": [
    {
     "name": "stdout",
     "output_type": "stream",
     "text": [
      "[[ 4.567220e+01  4.054560e+01  3.133380e+01  2.483310e+01  4.903150e+01\n",
      "   4.903150e+01  3.781340e+01  5.057710e+01]\n",
      " [ 6.315610e+02  5.525889e+02  4.920685e+02  3.193771e+02  7.168007e+02\n",
      "   7.168007e+02  3.084692e+02  4.728107e+02]\n",
      " [ 1.177806e+02  1.266357e+02  1.653638e+02  1.123036e+02  1.034586e+02\n",
      "   1.034586e+02  8.551460e+01  1.259697e+02]\n",
      " [ 4.500158e+02  4.389686e+02  2.850432e+02  2.547077e+02  3.782421e+02\n",
      "   3.782421e+02  1.269803e+02  3.487667e+02]\n",
      " [ 4.164240e+02  5.446985e+02  3.229896e+02  2.534462e+02  2.578163e+02\n",
      "   2.578163e+02  1.597620e+02  3.823193e+02]\n",
      " [ 1.526000e-01  2.051000e-01  2.858000e-01  4.167000e-01 -8.800000e-02\n",
      "  -8.800000e-02           nan  1.496000e-01]\n",
      " [ 1.524387e+02  1.606670e+01  9.407700e+01  1.027956e+02  2.625486e+02\n",
      "   2.625486e+02  7.400550e+01  5.008400e+01]\n",
      " [ 1.940035e+02  1.967491e+02  3.268857e+02  1.818221e+02  2.517184e+02\n",
      "   2.517184e+02  1.995224e+02  2.446042e+02]\n",
      " [ 1.216700e+00  1.986700e+00  3.388000e+00  2.368000e+00  2.042500e+00\n",
      "   2.042500e+00  1.800000e-01  2.167500e+00]\n",
      " [ 9.723600e+00  3.972100e+00  3.114600e+00  2.672700e+00  3.509200e+00\n",
      "   3.509200e+00  2.464700e+00  7.290000e+00]]\n"
     ]
    }
   ],
   "source": [
    "print data"
   ]
  },
  {
   "cell_type": "markdown",
   "metadata": {},
   "source": [
    "## Plotting the data"
   ]
  },
  {
   "cell_type": "markdown",
   "metadata": {},
   "source": [
    "#### We use the matplotlib for generating a boxplot of the gene expressions."
   ]
  },
  {
   "cell_type": "code",
   "execution_count": 27,
   "metadata": {},
   "outputs": [
    {
     "data": {
      "image/png": "[encoded data removed]",
      "text/plain": [
       "<Figure size 1008x720 with 1 Axes>"
      ]
     },
     "metadata": {
      "needs_background": "light"
     },
     "output_type": "display_data"
    }
   ],
   "source": [
    "import matplotlib.pyplot as plt\n",
    "\n",
    "fig = plt.figure(1, figsize=(14, 10))\n",
    "plt.xlabel('Gene')\n",
    "plt.ylabel('Expression level')\n",
    "\n",
    "# Create an axes instance\n",
    "ax = fig.add_subplot(111)\n",
    "\n",
    "# Create the boxplot\n",
    "bp = ax.boxplot(data.transpose(), \n",
    "                labels=genes_ordered.split(\"\\n\"))\n",
    "\n",
    "plt.show()"
   ]
  },
  {
   "cell_type": "markdown",
   "metadata": {},
   "source": [
    "#### We transpose the data because we want to plot the gene levels by gene."
   ]
  }
 ],
 "metadata": {
  "kernelspec": {
   "display_name": "Python 2",
   "language": "python",
   "name": "python2"
  },
  "language_info": {
   "codemirror_mode": {
    "name": "ipython",
    "version": 2
   },
   "file_extension": ".py",
   "mimetype": "text/x-python",
   "name": "python",
   "nbconvert_exporter": "python",
   "pygments_lexer": "ipython2",
   "version": "2.7.15+"
  },
  "widgets": {
   "application/vnd.jupyter.widget-state+json": {
    "state": {},
    "version_major": 1,
    "version_minor": 0
   }
  }
 },
 "nbformat": 4,
 "nbformat_minor": 2
}
