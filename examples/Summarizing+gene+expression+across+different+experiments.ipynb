{
 "cells": [
  {
   "cell_type": "markdown",
   "metadata": {},
   "source": [
    "# Summarize genes expression from CREST Hepatocytes experimentas\n",
    "\n",
    "###### Questions: Felipe Albrecht (felipe.albrecht@gmail.com) August 17, 2017"
   ]
  },
  {
   "cell_type": "markdown",
   "metadata": {},
   "source": [
    "#### All communication to DeepBlue Data Server is made through XML-RPC protocol.\n",
    "#### We are going to use the *xmlrpclib* package in  Python 2."
   ]
  },
  {
   "cell_type": "code",
   "execution_count": 1,
   "metadata": {
    "collapsed": true
   },
   "outputs": [],
   "source": [
    "import xmlrpclib"
   ]
  },
  {
   "cell_type": "markdown",
   "metadata": {},
   "source": [
    "#### We connect to the DeepBlue URL and create a object that will work as a proxy between our code and the server."
   ]
  },
  {
   "cell_type": "code",
   "execution_count": 2,
   "metadata": {
    "collapsed": true
   },
   "outputs": [],
   "source": [
    "url = \"http://deepblue.mpi-inf.mpg.de/xmlrpc\"\n",
    "deepblue = xmlrpclib.Server(url, allow_none=True)"
   ]
  },
  {
   "cell_type": "markdown",
   "metadata": {},
   "source": [
    "##### We need a user key to access DeepBlue. We are going to use the public and anonymous anonymous key that DeepBlue offer. Is it strongly recommended to register at [Register Page](http://deepblue.mpi-inf.mpg.de/register.php)."
   ]
  },
  {
   "cell_type": "code",
   "execution_count": 3,
   "metadata": {
    "collapsed": true
   },
   "outputs": [],
   "source": [
    "USER_KEY = \"anonymous_key\""
   ]
  },
  {
   "cell_type": "markdown",
   "metadata": {},
   "source": [
    "#### We use the command [echo](http://deepblue.mpi-inf.mpg.de/api.php#api-echo) to check your connection with DeepBlue"
   ]
  },
  {
   "cell_type": "code",
   "execution_count": 4,
   "metadata": {},
   "outputs": [
    {
     "name": "stdout",
     "output_type": "stream",
     "text": [
      "['okay', 'DeepBlue (1.17.7) says hi to anonymous']\n"
     ]
    }
   ],
   "source": [
    "print deepblue.echo(USER_KEY)"
   ]
  },
  {
   "cell_type": "markdown",
   "metadata": {},
   "source": [
    "#### We use the command [list_experiments](http://deepblue.mpi-inf.mpg.de/api.php#api-list_experiments) to list all mRNA experiments from Hepatocytes and from the CREST project."
   ]
  },
  {
   "cell_type": "code",
   "execution_count": 5,
   "metadata": {
    "collapsed": true
   },
   "outputs": [],
   "source": [
    "status, experiments = deepblue.list_experiments(\"GRCh38\", \"signal\", \n",
    "                                                \"mRNA\", \"hepatocyte\", \n",
    "                                                None, None, \"CREST\", \n",
    "                                                USER_KEY)"
   ]
  },
  {
   "cell_type": "code",
   "execution_count": 6,
   "metadata": {},
   "outputs": [
    {
     "data": {
      "text/plain": [
       "[['e107350', 'HPC6_hg38_RNAseq.ucsc.bedgraph'],\n",
       " ['e107347', 'HPC35_hg38_RNAseq.ucsc.bedgraph'],\n",
       " ['e107281', 'HPC25_hg38_RNAseq.ucsc.bedgraph'],\n",
       " ['e107285', 'HPC28_hg38_RNAseq.ucsc.bedgraph'],\n",
       " ['e107283', 'HPC20_hg38_RNAseq.ucsc.bedgraph'],\n",
       " ['e107279', 'HPC8_hg38_RNAseq.ucsc.bedgraph'],\n",
       " ['e107278', 'HPC17_hg38_RNAseq.ucsc.bedgraph'],\n",
       " ['e107269', 'HPC27_hg38_RNAseq.ucsc.bedgraph']]"
      ]
     },
     "execution_count": 6,
     "metadata": {},
     "output_type": "execute_result"
    }
   ],
   "source": [
    "experiments"
   ]
  },
  {
   "cell_type": "markdown",
   "metadata": {},
   "source": [
    "#### The list_experiments return a list of IDs and names. We use the command [extract_names](http://deepblue.mpi-inf.mpg.de/api.php#api-extract_names) to obtain the experiments names."
   ]
  },
  {
   "cell_type": "code",
   "execution_count": 7,
   "metadata": {
    "collapsed": true
   },
   "outputs": [],
   "source": [
    "status, experiment_names = deepblue.extract_names(experiments)"
   ]
  },
  {
   "cell_type": "code",
   "execution_count": 8,
   "metadata": {},
   "outputs": [
    {
     "data": {
      "text/plain": [
       "['HPC6_hg38_RNAseq.ucsc.bedgraph',\n",
       " 'HPC35_hg38_RNAseq.ucsc.bedgraph',\n",
       " 'HPC25_hg38_RNAseq.ucsc.bedgraph',\n",
       " 'HPC28_hg38_RNAseq.ucsc.bedgraph',\n",
       " 'HPC20_hg38_RNAseq.ucsc.bedgraph',\n",
       " 'HPC8_hg38_RNAseq.ucsc.bedgraph',\n",
       " 'HPC17_hg38_RNAseq.ucsc.bedgraph',\n",
       " 'HPC27_hg38_RNAseq.ucsc.bedgraph']"
      ]
     },
     "execution_count": 8,
     "metadata": {},
     "output_type": "execute_result"
    }
   ],
   "source": [
    "experiment_names"
   ]
  },
  {
   "cell_type": "markdown",
   "metadata": {},
   "source": [
    "#### We select manually some genes. A list of Genes can be found in the [Web Interface](http://deepblue.mpi-inf.mpg.de/dashboard.php#ajax/deepblue_view_genes.php)"
   ]
  },
  {
   "cell_type": "code",
   "execution_count": 9,
   "metadata": {
    "collapsed": true
   },
   "outputs": [],
   "source": [
    "genes = [\"ADH1A\", \"ADH1C\", \"ADH4\", \"ADH5\", \"ADH6\", \"ADH7\", \n",
    "         \"GSTA1\", \"GSTA2\", \"GSTA3\", \"GSTA4\"]"
   ]
  },
  {
   "cell_type": "markdown",
   "metadata": {},
   "source": [
    "#### The list_experiments return a list of IDs and names. We use the command [select_genes](http://deepblue.mpi-inf.mpg.de/api.php#api-select_genes) select the genes and return a query ID."
   ]
  },
  {
   "cell_type": "code",
   "execution_count": 10,
   "metadata": {
    "collapsed": true
   },
   "outputs": [],
   "source": [
    "(status, q_genes) = deepblue.select_genes(genes, None, \n",
    "                                          \"gencode v23\", None, None, None, USER_KEY)"
   ]
  },
  {
   "cell_type": "code",
   "execution_count": 11,
   "metadata": {},
   "outputs": [
    {
     "data": {
      "text/plain": [
       "'q987661'"
      ]
     },
     "execution_count": 11,
     "metadata": {},
     "output_type": "execute_result"
    }
   ],
   "source": [
    "q_genes"
   ]
  },
  {
   "cell_type": "markdown",
   "metadata": {},
   "source": [
    "#### We obtain the genes from the server. We do it to obtain the genes in \"genomic order\". The  [get_regions](http://deepblue.mpi-inf.mpg.de/api.php#api-get_regions) command is usually to obtain the epigenomic data, but in this case we use to obtain the gene names (using the meta-field @GENE_NAME). This data will be used further. "
   ]
  },
  {
   "cell_type": "code",
   "execution_count": 12,
   "metadata": {
    "collapsed": true
   },
   "outputs": [],
   "source": [
    "(status, request_id) = deepblue.get_regions(q_genes, \n",
    "                                            \"@GENE_NAME(gencode v22)\", \n",
    "                                            USER_KEY)"
   ]
  },
  {
   "cell_type": "markdown",
   "metadata": {},
   "source": [
    "#### The following function is used to wait DeepBlue processing and download the data."
   ]
  },
  {
   "cell_type": "code",
   "execution_count": 17,
   "metadata": {
    "collapsed": true
   },
   "outputs": [],
   "source": [
    "import time\n",
    "def download_data(request_id):\n",
    " (status, info) = deepblue.info(request_id, USER_KEY)\n",
    " request_status = info[0][\"state\"]\n",
    " while request_status != \"done\" and request_status != \"failed\":\n",
    "   print request_status \n",
    "   time.sleep(1)\n",
    "   (status, info) = deepblue.info(request_id, USER_KEY)\n",
    "   request_status = info[0][\"state\"]\n",
    " (status, regions) = deepblue.get_request_data(request_id, USER_KEY)\n",
    " return regions"
   ]
  },
  {
   "cell_type": "code",
   "execution_count": 18,
   "metadata": {},
   "outputs": [],
   "source": [
    "genes_ordered = download_data(request_id)"
   ]
  },
  {
   "cell_type": "markdown",
   "metadata": {},
   "source": [
    "#### We verify the output."
   ]
  },
  {
   "cell_type": "code",
   "execution_count": 19,
   "metadata": {},
   "outputs": [
    {
     "name": "stdout",
     "output_type": "stream",
     "text": [
      "ADH5\n",
      "ADH4\n",
      "ADH6\n",
      "ADH1A\n",
      "ADH1C\n",
      "ADH7\n",
      "GSTA2\n",
      "GSTA1\n",
      "GSTA3\n",
      "GSTA4\n"
     ]
    }
   ],
   "source": [
    "print genes_ordered"
   ]
  },
  {
   "cell_type": "markdown",
   "metadata": {
    "collapsed": true
   },
   "source": [
    "## Building the score matrix\n",
    "\n",
    "#### We have to create a dictionary, with the experiment names as key and the column name as value. For this case, we use the column named \"VALUE\", that is the default value column in the DeepBlue signal data."
   ]
  },
  {
   "cell_type": "code",
   "execution_count": 20,
   "metadata": {
    "collapsed": true
   },
   "outputs": [],
   "source": [
    "experiments_columns = {}\n",
    "for experiment_name in experiment_names:\n",
    "    experiments_columns[experiment_name] = \"VALUE\"\n"
   ]
  },
  {
   "cell_type": "code",
   "execution_count": 21,
   "metadata": {},
   "outputs": [
    {
     "data": {
      "text/plain": [
       "{'HPC17_hg38_RNAseq.ucsc.bedgraph': 'VALUE',\n",
       " 'HPC20_hg38_RNAseq.ucsc.bedgraph': 'VALUE',\n",
       " 'HPC25_hg38_RNAseq.ucsc.bedgraph': 'VALUE',\n",
       " 'HPC27_hg38_RNAseq.ucsc.bedgraph': 'VALUE',\n",
       " 'HPC28_hg38_RNAseq.ucsc.bedgraph': 'VALUE',\n",
       " 'HPC35_hg38_RNAseq.ucsc.bedgraph': 'VALUE',\n",
       " 'HPC6_hg38_RNAseq.ucsc.bedgraph': 'VALUE',\n",
       " 'HPC8_hg38_RNAseq.ucsc.bedgraph': 'VALUE'}"
      ]
     },
     "execution_count": 21,
     "metadata": {},
     "output_type": "execute_result"
    }
   ],
   "source": [
    "experiments_columns"
   ]
  },
  {
   "cell_type": "markdown",
   "metadata": {},
   "source": [
    "#### We build the [score_matrix](http://deepblue.mpi-inf.mpg.de/api.php#api-score_matrix) using the defined *experiments_columns* , where we calculate the *mean* value by the regions defined in the *q_genes*."
   ]
  },
  {
   "cell_type": "code",
   "execution_count": 22,
   "metadata": {
    "collapsed": true
   },
   "outputs": [],
   "source": [
    "status, score_matrix_request = deepblue.score_matrix(experiments_columns, \n",
    "                                                     \"mean\", \n",
    "                                                     q_genes, \n",
    "                                                     USER_KEY)"
   ]
  },
  {
   "cell_type": "markdown",
   "metadata": {},
   "source": [
    "#### We download the data and print it."
   ]
  },
  {
   "cell_type": "code",
   "execution_count": 23,
   "metadata": {},
   "outputs": [
    {
     "name": "stdout",
     "output_type": "stream",
     "text": [
      "running\n"
     ]
    }
   ],
   "source": [
    "score_matrix_genes = download_data(score_matrix_request)"
   ]
  },
  {
   "cell_type": "code",
   "execution_count": 33,
   "metadata": {},
   "outputs": [
    {
     "name": "stdout",
     "output_type": "stream",
     "text": [
      "CHROMOSOME\tSTART\tEND\tHPC17_hg38_RNAseq.ucsc.bedgraph\tHPC20_hg38_RNAseq.ucsc.bedgraph\tHPC25_hg38_RNAseq.ucsc.bedgraph\tHPC27_hg38_RNAseq.ucsc.bedgraph\tHPC28_hg38_RNAseq.ucsc.bedgraph\tHPC35_hg38_RNAseq.ucsc.bedgraph\tHPC6_hg38_RNAseq.ucsc.bedgraph\tHPC8_hg38_RNAseq.ucsc.bedgraph\n",
      "chr4\t99070978\t99088801\t45.6722\t40.5456\t31.3338\t24.8331\t49.0315\t49.0315\t37.8134\t50.5771\n",
      "chr4\t99123657\t99157792\t631.561\t552.589\t492.069\t319.377\t716.801\t716.801\t308.469\t472.811\n",
      "chr4\t99202638\t99219537\t117.781\t126.636\t165.364\t112.304\t103.459\t103.459\t85.5146\t125.97\n",
      "chr4\t99276367\t99291028\t450.016\t438.969\t285.043\t254.708\t378.242\t378.242\t126.98\t348.767\n",
      "chr4\t99336492\t99353027\t416.424\t544.699\t322.99\t253.446\t257.816\t257.816\t159.762\t382.319\n",
      "chr4\t99412261\t99435737\t0.152611\t0.205124\t0.285826\t0.416667\t-0.0880021\t-0.0880021\t\t0.149581\n",
      "chr6\t52750089\t52763569\t152.439\t16.0667\t94.077\t102.796\t262.549\t262.549\t74.0055\t50.084\n",
      "chr6\t52791664\t52803910\t194.003\t196.749\t326.886\t181.822\t251.718\t251.718\t199.522\t244.604\n",
      "chr6\t52847910\t52909685\t1.21667\t1.98667\t3.388\t2.368\t2.0425\t2.0425\t0.18\t2.1675\n",
      "chr6\t52977948\t52995378\t9.72359\t3.97209\t3.11464\t2.67268\t3.50921\t3.50921\t2.4647\t7.29\n",
      "\n"
     ]
    }
   ],
   "source": [
    "print score_matrix_genes"
   ]
  },
  {
   "cell_type": "markdown",
   "metadata": {},
   "source": [
    "## Importing the data into numpy"
   ]
  },
  {
   "cell_type": "code",
   "execution_count": 34,
   "metadata": {
    "collapsed": true
   },
   "outputs": [],
   "source": [
    "import numpy as np"
   ]
  },
  {
   "cell_type": "code",
   "execution_count": 35,
   "metadata": {
    "collapsed": true
   },
   "outputs": [],
   "source": [
    "from io import BytesIO"
   ]
  },
  {
   "cell_type": "markdown",
   "metadata": {},
   "source": [
    "#### We import the data into a numpy data structure. For this, we use the command genfromtxt, using tabs as delimiters, skipping the first row (the header), and using columns from the 3rd position. "
   ]
  },
  {
   "cell_type": "code",
   "execution_count": 36,
   "metadata": {},
   "outputs": [
    {
     "name": "stdout",
     "output_type": "stream",
     "text": [
      "8\n"
     ]
    }
   ],
   "source": [
    "experiments_count = len(experiment_names)\n",
    "print experiments_count"
   ]
  },
  {
   "cell_type": "code",
   "execution_count": 37,
   "metadata": {
    "collapsed": true
   },
   "outputs": [],
   "source": [
    "data = np.genfromtxt(BytesIO(score_matrix_genes), delimiter=\"\\t\", \n",
    "                     skip_header=1, \n",
    "                     usecols = range(3,experiments_count+3))"
   ]
  },
  {
   "cell_type": "code",
   "execution_count": 38,
   "metadata": {},
   "outputs": [
    {
     "name": "stdout",
     "output_type": "stream",
     "text": [
      "[[  4.56722000e+01   4.05456000e+01   3.13338000e+01   2.48331000e+01\n",
      "    4.90315000e+01   4.90315000e+01   3.78134000e+01   5.05771000e+01]\n",
      " [  6.31561000e+02   5.52589000e+02   4.92069000e+02   3.19377000e+02\n",
      "    7.16801000e+02   7.16801000e+02   3.08469000e+02   4.72811000e+02]\n",
      " [  1.17781000e+02   1.26636000e+02   1.65364000e+02   1.12304000e+02\n",
      "    1.03459000e+02   1.03459000e+02   8.55146000e+01   1.25970000e+02]\n",
      " [  4.50016000e+02   4.38969000e+02   2.85043000e+02   2.54708000e+02\n",
      "    3.78242000e+02   3.78242000e+02   1.26980000e+02   3.48767000e+02]\n",
      " [  4.16424000e+02   5.44699000e+02   3.22990000e+02   2.53446000e+02\n",
      "    2.57816000e+02   2.57816000e+02   1.59762000e+02   3.82319000e+02]\n",
      " [  1.52611000e-01   2.05124000e-01   2.85826000e-01   4.16667000e-01\n",
      "   -8.80021000e-02  -8.80021000e-02              nan   1.49581000e-01]\n",
      " [  1.52439000e+02   1.60667000e+01   9.40770000e+01   1.02796000e+02\n",
      "    2.62549000e+02   2.62549000e+02   7.40055000e+01   5.00840000e+01]\n",
      " [  1.94003000e+02   1.96749000e+02   3.26886000e+02   1.81822000e+02\n",
      "    2.51718000e+02   2.51718000e+02   1.99522000e+02   2.44604000e+02]\n",
      " [  1.21667000e+00   1.98667000e+00   3.38800000e+00   2.36800000e+00\n",
      "    2.04250000e+00   2.04250000e+00   1.80000000e-01   2.16750000e+00]\n",
      " [  9.72359000e+00   3.97209000e+00   3.11464000e+00   2.67268000e+00\n",
      "    3.50921000e+00   3.50921000e+00   2.46470000e+00   7.29000000e+00]]\n"
     ]
    }
   ],
   "source": [
    "print data"
   ]
  },
  {
   "cell_type": "markdown",
   "metadata": {},
   "source": [
    "## Plotting the data"
   ]
  },
  {
   "cell_type": "markdown",
   "metadata": {},
   "source": [
    "#### We use the matplotlib for generating a boxplot of the gene expressions."
   ]
  },
  {
   "cell_type": "code",
   "execution_count": 39,
   "metadata": {
    "collapsed": true
   },
   "outputs": [],
   "source": [
    "import matplotlib.pyplot as plt\n",
    "\n",
    "fig = plt.figure(1, figsize=(14, 10))\n",
    "plt.xlabel('Gene')\n",
    "plt.ylabel('Expression level')\n",
    "\n",
    "# Create an axes instance\n",
    "ax = fig.add_subplot(111)"
   ]
  },
  {
   "cell_type": "markdown",
   "metadata": {},
   "source": [
    "#### We transpose the data because we want to plot the gene levels by gene."
   ]
  },
  {
   "cell_type": "code",
   "execution_count": 40,
   "metadata": {},
   "outputs": [
    {
     "data": {
      "image/png": "[encoded data removed]",
      "text/plain": [
       "<matplotlib.figure.Figure at 0x7f87ce6d1a50>"
      ]
     },
     "metadata": {},
     "output_type": "display_data"
    }
   ],
   "source": [
    "# Create the boxplot\n",
    "bp = ax.boxplot(data.transpose(), \n",
    "                labels=genes_ordered.split(\"\\n\"))\n",
    "\n",
    "plt.show()"
   ]
  },
  {
   "cell_type": "code",
   "execution_count": null,
   "metadata": {
    "collapsed": true
   },
   "outputs": [],
   "source": []
  },
  {
   "cell_type": "code",
   "execution_count": null,
   "metadata": {
    "collapsed": true
   },
   "outputs": [],
   "source": []
  }
 ],
 "metadata": {
  "kernelspec": {
   "display_name": "Python 2",
   "language": "python",
   "name": "python2"
  },
  "language_info": {
   "codemirror_mode": {
    "name": "ipython",
    "version": 2
   },
   "file_extension": ".py",
   "mimetype": "text/x-python",
   "name": "python",
   "nbconvert_exporter": "python",
   "pygments_lexer": "ipython2",
   "version": "2.7.13"
  },
  "widgets": {
   "application/vnd.jupyter.widget-state+json": {
    "state": {},
    "version_major": 1,
    "version_minor": 0
   }
  }
 },
 "nbformat": 4,
 "nbformat_minor": 2
}
